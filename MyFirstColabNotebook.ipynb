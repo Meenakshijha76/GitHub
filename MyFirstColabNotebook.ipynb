{
  "nbformat": 4,
  "nbformat_minor": 0,
  "metadata": {
    "colab": {
      "name": "MyFirstColabNotebook.ipynb",
      "provenance": [],
      "authorship_tag": "ABX9TyOOvqhrJUO2VolKicOPlCoK",
      "include_colab_link": true
    },
    "kernelspec": {
      "name": "python3",
      "display_name": "Python 3"
    },
    "language_info": {
      "name": "python"
    }
  },
  "cells": [
    {
      "cell_type": "markdown",
      "metadata": {
        "id": "view-in-github",
        "colab_type": "text"
      },
      "source": [
        "<a href=\"https://colab.research.google.com/github/Meenakshijha76/GitHub/blob/main/MyFirstColabNotebook.ipynb\" target=\"_parent\"><img src=\"https://colab.research.google.com/assets/colab-badge.svg\" alt=\"Open In Colab\"/></a>"
      ]
    },
    {
      "cell_type": "code",
      "execution_count": 1,
      "metadata": {
        "colab": {
          "base_uri": "https://localhost:8080/"
        },
        "id": "2eXrvR-xcHOy",
        "outputId": "bbd7831c-19c2-48eb-cad7-18579d140eca"
      },
      "outputs": [
        {
          "output_type": "stream",
          "name": "stdout",
          "text": [
            "Tue Feb  1 09:16:19 2022\n"
          ]
        }
      ],
      "source": [
        "import time \n",
        "print(time.ctime())"
      ]
    },
    {
      "cell_type": "code",
      "source": [
        "time.sleep(5)\n",
        "print (time.ctime())\n"
      ],
      "metadata": {
        "colab": {
          "base_uri": "https://localhost:8080/"
        },
        "id": "dJodXIrXc8sw",
        "outputId": "0ae035a4-458f-4d48-aa07-127cc0570736"
      },
      "execution_count": 2,
      "outputs": [
        {
          "output_type": "stream",
          "name": "stdout",
          "text": [
            "Tue Feb  1 09:16:25 2022\n"
          ]
        }
      ]
    },
    {
      "cell_type": "markdown",
      "source": [
        "This is **bold**.\n",
        "This is *italic*.\n",
        "This is ~strikethrough~.\n"
      ],
      "metadata": {
        "id": "V8O_EtailgBi"
      }
    },
    {
      "cell_type": "markdown",
      "source": [
        "$\\sqrt{3x-1}+(1+x)^2$\n"
      ],
      "metadata": {
        "id": "eSPIfa60lzl9"
      }
    },
    {
      "cell_type": "markdown",
      "source": [
        "$e^x=\\sum_{i=0}^\\infty\\frac{1}{i!}x^i$\n",
        "\n",
        "\n"
      ],
      "metadata": {
        "id": "I392kYsfl3et"
      }
    },
    {
      "cell_type": "markdown",
      "source": [
        "Constraintsare\n",
        "-$3x_1\t+\t6x_2 + x_3 =<28$\n",
        "-$7x_1\t+\t3x_2+2x_3\t=<37$\n",
        "-$4x_1\t+\t5x_2 + 2x_3 =<19$\n",
        "-$x_1,x_2,x_3>=0$\n",
        "\n",
        "\n",
        "The trial vector is calculated asfollows:\n",
        "-$u_i(t)=x_i(t)+\\beta(\\hat{x}(t)−x_i(t))+\\beta\\sum_{k=1}^{n\n",
        "_v}(x_{i1,k}(t)−x_{i2,k}(t))$\n",
        "\n",
        "\n",
        "-$f(x_1,x_2)=20+e-20exp(-0.2\\sqrt{\\frac{1}{n}(x_1^2+x_2^2)})-exp (\\frac{1}{n}(cos(2\\pix_1)+cos(2\\pix_2))$\n",
        "$x∈[-5,5]$\n",
        "\n",
        "\n",
        "-$A_{m,n}=\n",
        " \\begin{pmatrix}\n",
        "   a_{1,1}&a_{1,2}&\\cdots&a_{1,n}\\\\ \n",
        "   a_{2,1}&a_{2,2}&\\cdots&a_{2,n}\\\\\n",
        "   \\vdots\t&\\vdots\t&\\ddots&\\vdots\t\n",
        "   \\\\a_{m,1}&a_{m,2}&\\cdots&a_{m,n}$\n",
        "\n"
      ],
      "metadata": {
        "id": "eMBHqgX-l_kY"
      }
    }
  ]
}